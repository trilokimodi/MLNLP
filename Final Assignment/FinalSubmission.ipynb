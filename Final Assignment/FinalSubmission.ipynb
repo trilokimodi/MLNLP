{
  "nbformat": 4,
  "nbformat_minor": 0,
  "metadata": {
    "colab": {
      "name": "FinalSubmission.ipynb",
      "provenance": [],
      "collapsed_sections": []
    },
    "kernelspec": {
      "name": "python3",
      "display_name": "Python 3"
    }
  },
  "cells": [
    {
      "cell_type": "markdown",
      "metadata": {
        "id": "dNKt1kRbISb6"
      },
      "source": [
        "**Linus Aronnsson**\r\n",
        "\r\n",
        "**Trilokinath Modi**\r\n",
        "\r\n",
        "**Akshita Pingle**"
      ]
    },
    {
      "cell_type": "markdown",
      "metadata": {
        "id": "-vRt-fCIIiyh"
      },
      "source": [
        "# Data"
      ]
    },
    {
      "cell_type": "markdown",
      "metadata": {
        "id": "EE1pgJUIG2rj"
      },
      "source": [
        "Data can be accessed by first downloading whole.csv using link\r\n",
        "https://drive.google.com/file/d/1MsGEHk39y2PIlOZM0U5jemIPiGvi6cSC/view?usp=sharing \r\n",
        "\r\n",
        "Once downloaded run the python file shared in this link \r\n",
        "https://drive.google.com/file/d/1KC5qAeCKAGgjwg-4-DMgjb7ZypwpXsOi/view?usp=sharing\r\n",
        "\r\n",
        "This will make the files compatible for all the below colab files"
      ]
    },
    {
      "cell_type": "markdown",
      "metadata": {
        "id": "Y1j30TL7IlhC"
      },
      "source": [
        "# Classification"
      ]
    },
    {
      "cell_type": "markdown",
      "metadata": {
        "id": "vAf4zYV0HEFz"
      },
      "source": [
        "Classification task colab notebooks \r\n",
        "\r\n",
        "1 - CBoW, RNN, LSTMM , GRU\r\n",
        "https://colab.research.google.com/drive/1nSNv1LVKyFiy4frFZhWe8a_jFiJB6yEx?usp=sharing\r\n",
        "\r\n",
        "2 - BERT\r\n",
        "https://colab.research.google.com/drive/1GWcV8wKY6lptrl65ShLSrWuRrp5J8nYa?usp=sharing\r\n",
        "\r\n",
        "3 - BERT + LSTM\r\n",
        "https://colab.research.google.com/drive/1X-jrVjlUyGjZQZc79xtOcyDOS21xPJwU?usp=sharing"
      ]
    },
    {
      "cell_type": "markdown",
      "metadata": {
        "id": "kQjxa2qdIn1B"
      },
      "source": [
        "# Regression"
      ]
    },
    {
      "cell_type": "markdown",
      "metadata": {
        "id": "ORuCXmg1IFjs"
      },
      "source": [
        "Regression task colab notebooks\r\n",
        "\r\n",
        "4 - CBoW, LSTM, GRU\r\n",
        "https://colab.research.google.com/drive/1xHHYuLakxcj120TGgdO0LkEnEwVeymqt?usp=sharing\r\n",
        "\r\n",
        "5 - BERT\r\n",
        "https://colab.research.google.com/drive/16rp54spzW_63uD7EW-_caMQNRmlxiJ_I?usp=sharing"
      ]
    }
  ]
}